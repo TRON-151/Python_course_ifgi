{
 "cells": [
  {
   "cell_type": "markdown",
   "metadata": {},
   "source": [
    "# Find hospitals closest to an incident"
   ]
  },
  {
   "cell_type": "markdown",
   "metadata": {},
   "source": [
    "This jupyter notebook constitutes the Exercise Sheet for the first lecture aput the arcgis API for Python.\n",
    "\n",
    "It is build as a 'gap text' challenge, there is a lot of text, code snippets and comments already added. To complete this exercise follow the instructions to build a fully working jupyter notebook. Add comments if necessary. \n",
    "\n",
    "You will use the functions of the network analyst module from the arcgis api for Python to build a solver the finds the route and the distance in kilometers towards the next hospital in Münster. \n",
    "\n",
    "There are two bonus challenges for 2 points each:\n",
    "1. Build a Interactive Input for the Incident Coordinates\n",
    "2. Label the result of the routing with the kilometer distance\n",
    "\n",
    "You will find the details for the bonus challenge in the explanations.\n",
    "\n",
    "There are 10 Points for the exercise and 4 bonus points available.\n",
    "Please remember to write code that is easy readable, well documented and actually working. \n",
    "\n",
    "The `network` module of the ArcGIS API for Python can be used to solve different types of network analysis operations. In this Exercise, we see how to find the hospital that is closest to an incident."
   ]
  },
  {
   "cell_type": "markdown",
   "metadata": {},
   "source": [
    "## Closest facility"
   ]
  },
  {
   "cell_type": "markdown",
   "metadata": {},
   "source": [
    "The closest facility solver provides functionality for finding out the closest locations to a particular input point. This solver would be useful in cases when you have an incident and need to find the closest facility or need to get information on the travel time and the distance to each of the facilities from an incident point for reporting purposes.\n",
    "\n",
    "![](http://desktop.arcgis.com/en/arcmap/latest/extensions/network-analyst/GUID-96C273DB-6A24-4D42-AADA-975A33B44F3D-web.png)\n",
    "\n",
    "When finding closest facilities, you can specify how many to find and whether the direction of travel is toward or away from them. The closest facility solver displays the best routes between incidents and facilities, reports their travel costs, and returns driving directions."
   ]
  },
  {
   "cell_type": "markdown",
   "metadata": {},
   "source": [
    "### Connect to your GIS\n",
    "As a first step, you would need to establish a connection to your organization which could be an ArcGIS Online organization or an ArcGIS Enterprise."
   ]
  },
  {
   "cell_type": "code",
   "execution_count": 1,
   "metadata": {},
   "outputs": [],
   "source": [
    "from IPython.display import HTML\n",
    "import pandas as pd\n",
    "from arcgis.gis import GIS\n",
    "# import arcpy\n",
    "# arcpy.CheckOutExtension(\"Network\")\n",
    "\n",
    "#connect to your GIS \n",
    "# please dont enter your password in clear letters, make sure you use getpass\n",
    "import getpass\n",
    "\n",
    "# connecting with my GIS\n",
    "password = getpass.getpass(\"Password please:\")\n",
    "my_gis = GIS('https://www.arcgis.com', 'o.bin.zamir_UNI-MS', password)"
   ]
  },
  {
   "cell_type": "markdown",
   "metadata": {},
   "source": [
    "### Create a Network Layer\n",
    "To perform any network analysis (such as finding the closest facility, the best route between multiple stops, or service area around a facility), you would need to create a `NetworkLayer` object. In this sample, since we are solving for closest facilities, we need to create a `ClosestFacilityLayer` which is a type of `NetworkLayer`.\n",
    "\n",
    "To create any `NetworkLayer` object, you would need to provide the URL to the appropriate network analysis service. Hence, in this sample, we provide a `ClosestFacility` URL to create a `ClosestFacilityLayer` object. \n",
    "\n",
    "Since all ArcGIS Online organizations already have access to those routing services, you can access this URL through the `GIS` object's `helperServices` property. If you have your own ArcGIS Server based map service with network analysis capability enabled, you would need to provide the URL for this service.\n",
    "\n",
    "Let us start by importing the `network` module"
   ]
  },
  {
   "cell_type": "code",
   "execution_count": 2,
   "metadata": {},
   "outputs": [],
   "source": [
    "import arcgis.network as network"
   ]
  },
  {
   "cell_type": "markdown",
   "metadata": {},
   "source": [
    "Access the analysis URL from the `GIS` object"
   ]
  },
  {
   "cell_type": "code",
   "execution_count": 3,
   "metadata": {},
   "outputs": [
    {
     "data": {
      "text/plain": [
       "'https://route.arcgis.com/arcgis/rest/services/World/ClosestFacility/NAServer/ClosestFacility_World'"
      ]
     },
     "execution_count": 3,
     "metadata": {},
     "output_type": "execute_result"
    }
   ],
   "source": [
    "analysis_url = my_gis.properties.helperServices.closestFacility.url\n",
    "analysis_url"
   ]
  },
  {
   "cell_type": "markdown",
   "metadata": {},
   "source": [
    "Create a `ClosestFacilityLayer` object using this URL\n",
    "\n",
    "See the help for details in Syntax. https://developers.arcgis.com/python/api-reference/arcgis.network.toc.html#closestfacilitylayer"
   ]
  },
  {
   "cell_type": "code",
   "execution_count": 4,
   "metadata": {},
   "outputs": [],
   "source": [
    "# creating the closest facilitylayer object\n",
    "cf_layer = network.ClosestFacilityLayer(analysis_url, gis= my_gis)"
   ]
  },
  {
   "cell_type": "code",
   "execution_count": 5,
   "metadata": {},
   "outputs": [
    {
     "data": {
      "text/plain": [
       "<ClosestFacilityLayer url:\"https://route.arcgis.com/arcgis/rest/services/World/ClosestFacility/NAServer/ClosestFacility_World\">"
      ]
     },
     "execution_count": 5,
     "metadata": {},
     "output_type": "execute_result"
    }
   ],
   "source": [
    "# lets see the cf_layer\n",
    "cf_layer"
   ]
  },
  {
   "cell_type": "markdown",
   "metadata": {},
   "source": [
    "### Create hospitals layer\n",
    "In this sample, we will be looking for the closest hospital (facility) to an incident location. Even though we are interested in finding out the closest one, it would still be helpful to get the information on the distance and travel time to all of them for reference purposes.\n",
    "\n",
    "In the code below, we need to geocode the hospitals' addresses as well as do the reverse geocode for the incident location which has been supplied in the latitude/longitude format.\n",
    "\n",
    "To perform the geocode operations, we import the `geocoding` module of the ArcGIS API."
   ]
  },
  {
   "cell_type": "code",
   "execution_count": 6,
   "metadata": {},
   "outputs": [],
   "source": [
    "from arcgis import geocoding"
   ]
  },
  {
   "cell_type": "markdown",
   "metadata": {},
   "source": [
    "In this sample, we geocode addresses of hospitals to create the facility layer. In your workflows, this could any feature layer. Create a list of hospitals in Münster, Germany"
   ]
  },
  {
   "cell_type": "code",
   "execution_count": 7,
   "metadata": {
    "scrolled": true
   },
   "outputs": [],
   "source": [
    "hospitals_addresses = ['Dorbaumstraße 300, 48157 Münster, Germany',\n",
    "                       'Alexianerweg 9, 48163 Münster, Germany',\n",
    "                       'Westfalenstr. 109, 48165 Münster, Germany',\n",
    "                       'Loerstraße 23, 48143 Münster, Germany',\n",
    "                       'Hohenzollernring 70, 48145 Münster, Germany',\n",
    "                       'Wichernstraße 8, 48147 Münster, Germany',\n",
    "                       'Domagkstr. 5, 48149 Münster, Germany']"
   ]
  },
  {
   "cell_type": "markdown",
   "metadata": {},
   "source": [
    "Loop through each address and geocode it. The geocode operation returns a list of matches for each address. We pick the first result and extract the coordinates from it and construct a `Feature` object out of it. Then we combine all the `Feature`s representing the hospitals into a `FeatureSet` object.\n",
    "\n",
    "Geocoding syntax: https://developers.arcgis.com/python/api-reference/arcgis.geocoding.html#geocode\n",
    "\n",
    "Feature Syntax: https://developers.arcgis.com/python/api-reference/arcgis.features.toc.html#feature\n",
    "\n",
    "Feature Set Syntax: https://developers.arcgis.com/python/api-reference/arcgis.features.toc.html#featureset\n",
    "\n",
    "Hint: Check the structure from the return element of the geocoder to properly construct your feature. Use a loop to run through the list of adresses, add each result feature to a python list and use this python list to build your feature set. While building the feature set, use this as the value for the spatial_reference parameter `{'wkid' : 4326, 'latestWkid': 4326}`"
   ]
  },
  {
   "cell_type": "code",
   "execution_count": 8,
   "metadata": {},
   "outputs": [],
   "source": [
    "from arcgis.features import Feature, FeatureSet"
   ]
  },
  {
   "cell_type": "code",
   "execution_count": 9,
   "metadata": {},
   "outputs": [],
   "source": [
    "# let first make a list to store the hospital feature individually\n",
    "h_feat_list = []\n",
    "\n",
    "# lets loop through the addresses and geocode them:\n",
    "for h_address in hospitals_addresses:\n",
    "    geocoded = geocoding.geocode(h_address)[0]\n",
    "    # for each h_address lets make a hospital feature\n",
    "    h_feature = Feature(\n",
    "        geometry = geocoded['location'], # lets store the values \n",
    "        attributes = {'name': h_address} # storing the address as attribute\n",
    "    )\n",
    "    # now at last lets append this feature to the list\n",
    "    h_feat_list.append(h_feature)\n",
    "    \n"
   ]
  },
  {
   "cell_type": "code",
   "execution_count": 10,
   "metadata": {},
   "outputs": [
    {
     "name": "stdout",
     "output_type": "stream",
     "text": [
      "{\"geometry\": {\"x\": 7.709353094785, \"y\": 52.013365641243}, \"attributes\": {\"name\": \"Dorbaumstra\\u00dfe 300, 48157 M\\u00fcnster, Germany\"}}\n",
      "{\"geometry\": {\"x\": 7.564906919172, \"y\": 51.877521980497}, \"attributes\": {\"name\": \"Alexianerweg 9, 48163 M\\u00fcnster, Germany\"}}\n",
      "{\"geometry\": {\"x\": 7.634180079975, \"y\": 51.908846032763}, \"attributes\": {\"name\": \"Westfalenstr. 109, 48165 M\\u00fcnster, Germany\"}}\n",
      "{\"geometry\": {\"x\": 7.629749070681, \"y\": 51.959485007431}, \"attributes\": {\"name\": \"Loerstra\\u00dfe 23, 48143 M\\u00fcnster, Germany\"}}\n",
      "{\"geometry\": {\"x\": 7.64876467532, \"y\": 51.960599004273}, \"attributes\": {\"name\": \"Hohenzollernring 70, 48145 M\\u00fcnster, Germany\"}}\n",
      "{\"geometry\": {\"x\": 7.624749097798, \"y\": 51.972945421922}, \"attributes\": {\"name\": \"Wichernstra\\u00dfe 8, 48147 M\\u00fcnster, Germany\"}}\n",
      "{\"geometry\": {\"x\": 7.600980451145, \"y\": 51.96145798171}, \"attributes\": {\"name\": \"Domagkstr. 5, 48149 M\\u00fcnster, Germany\"}}\n"
     ]
    }
   ],
   "source": [
    "# let see first our list\n",
    "for feat in h_feat_list:\n",
    "    print(feat)"
   ]
  },
  {
   "cell_type": "markdown",
   "metadata": {},
   "source": [
    "Construct a `FeatureSet` using each hospital `Feature`."
   ]
  },
  {
   "cell_type": "code",
   "execution_count": 11,
   "metadata": {},
   "outputs": [],
   "source": [
    "# now we can mkae a feature set from it\n",
    "hospitals_fset = FeatureSet(\n",
    "    features = h_feat_list, #now we will give our list here\n",
    "    # now lets set coordinate reference system also as given \n",
    "    spatial_reference={\n",
    "        'wkid': 4326,\n",
    "        'latestWkid': 4326\n",
    "    }\n",
    ")"
   ]
  },
  {
   "cell_type": "markdown",
   "metadata": {},
   "source": [
    "Lets draw our hospitals on a map. To do so, intanciate a gis.map object, focused in Münster. Set the basemap to `arcgis-light-gray`\n",
    "\n",
    "Details about the map widget can be found here https://developers.arcgis.com/python/api-reference/arcgis.gis.toc.html#arcgis.gis.GIS.map\n",
    "use the map.draw() function to add the hospitals to the map. You can use the following value for the 'symbol' parameter: `{\"type\": \"esriSMS\",\"style\": \"esriSMSSquare\",\"color\": [76,115,0,255],\"size\": 8,}`"
   ]
  },
  {
   "cell_type": "code",
   "execution_count": 12,
   "metadata": {},
   "outputs": [],
   "source": [
    "from IPython.display import HTML"
   ]
  },
  {
   "cell_type": "code",
   "execution_count": 71,
   "metadata": {},
   "outputs": [
    {
     "data": {
      "application/vnd.jupyter.widget-view+json": {
       "model_id": "6a7acb38c9e64b7bae35f7dd8eef8bd3",
       "version_major": 2,
       "version_minor": 0
      },
      "text/plain": [
       "MapView(layout=Layout(height='400px', width='100%'))"
      ]
     },
     "metadata": {},
     "output_type": "display_data"
    },
    {
     "data": {
      "text/html": [
       "<div class=\"map-static-img-preview-03872723-3d77-4710-bc59-fb3ad740e4d5\"><img src=\"\"></img></div>"
      ],
      "text/plain": [
       "<display.HTML object>"
      ]
     },
     "metadata": {},
     "output_type": "display_data"
    },
    {
     "data": {
      "text/html": [
       "<div class=\"map-html-embed-preview-03872723-3d77-4710-bc59-fb3ad740e4d5\"></div>"
      ],
      "text/plain": [
       "<display.HTML object>"
      ]
     },
     "metadata": {},
     "output_type": "display_data"
    }
   ],
   "source": [
    "# instanciate the map\n",
    "map1 = my_gis.map('Münster') # this is our map\n",
    "map1.basemap = 'arcgis-light-gray' # setting basemap style as given\n",
    "map1"
   ]
  },
  {
   "cell_type": "code",
   "execution_count": 72,
   "metadata": {},
   "outputs": [],
   "source": [
    "# lets first set the parameters for the symbol as given instructions\n",
    "syb = {\n",
    "    \"type\": \"esriSMS\",\n",
    "    \"style\": \"esriSMSSquare\",\n",
    "    \"color\": [76,115, 0,255],\n",
    "    \"size\": 8\n",
    "}\n",
    "# draw the hospitals on the map\n",
    "map1.draw(hospitals_fset, symbol=syb)"
   ]
  },
  {
   "cell_type": "markdown",
   "metadata": {},
   "source": [
    "### Create incidents layer\n",
    "Lets use the geocoding.reverse_geocoding function to build an Feature set from the provided incident coordinates. Feel free to use your own coordinates or use the one provided\n",
    "\n",
    "The syntax for the reverse geocoding is here: https://developers.arcgis.com/python/api-reference/arcgis.geocoding.html#reverse-geocode\n",
    "\n",
    "1. Reverse Geocode the coordinates\n",
    "2. build a arcgis.Feature from the result object, using the 'location' from the response object as a parameter for the `geometry` parameter and the 'adress' from the response object for the `attributes` parameter of the Feature.\n",
    "3. Build a Feature set from the one Feature, similar to the feature set for the hospitals. You can use the same spatial_reference parameter"
   ]
  },
  {
   "cell_type": "code",
   "execution_count": 15,
   "metadata": {},
   "outputs": [],
   "source": [
    "# its time for incident layer\n",
    "incident_layer = Feature()"
   ]
  },
  {
   "cell_type": "markdown",
   "metadata": {},
   "source": [
    "## Bonus Challenge: Build an interactive Input for the coordinates\n",
    "for 2 extra points: \n",
    "Open an input form and verify that the input string has the format of XX.XXXX, YY.YYYY\n",
    "\n",
    "Give Feedback to the user if the format is correct or not."
   ]
  },
  {
   "cell_type": "code",
   "execution_count": 16,
   "metadata": {},
   "outputs": [],
   "source": [
    "# reverse geocode & build feature\n",
    "incident_coords = '7.641378810646356,51.95304243253929'\n",
    "\n",
    "# let take the coordinates individually\n",
    "# print(int(len(incident_coords)-1)/2)\n",
    "# x = incident_coords[(len(incident_coords)-1/2):]\n",
    "# print(x)\n",
    "\n",
    "# work on this later\n",
    "long = \"7.641378810646356\"\n",
    "lat = \"51.95304243253929\"\n",
    "\n",
    "\n",
    "# lets reverse geocode to get the address from this coordinates:\n",
    "rev_geocode = geocoding.reverse_geocode({\"x\": long, \"y\": lat})"
   ]
  },
  {
   "cell_type": "code",
   "execution_count": 17,
   "metadata": {},
   "outputs": [],
   "source": [
    "incident_layer.geometry = rev_geocode['location'] # reteriving the location\n",
    "incident_layer.attributes = {'address': rev_geocode['address']['Match_addr']} # for single exact location"
   ]
  },
  {
   "cell_type": "code",
   "execution_count": null,
   "metadata": {},
   "outputs": [],
   "source": []
  },
  {
   "cell_type": "code",
   "execution_count": 18,
   "metadata": {},
   "outputs": [],
   "source": [
    "# build the incident feature set from the layer\n",
    "incident_f_set = FeatureSet(\n",
    "    features=[incident_layer],\n",
    "    spatial_reference={\n",
    "        'wkid': 4326,\n",
    "        'latestWkid': 4326\n",
    "    } # same as hospital feature set\n",
    ")"
   ]
  },
  {
   "cell_type": "code",
   "execution_count": 19,
   "metadata": {},
   "outputs": [
    {
     "data": {
      "text/plain": [
       "[{\"geometry\": {\"x\": 7.641618030163, \"y\": 51.953028183304, \"spatialReference\": {\"wkid\": 4326, \"latestWkid\": 4326}}, \"attributes\": {\"address\": \"Dortmunder Stra\\u00dfe 34, 48155, M\\u00fcnster, Mitte-Nordost, Mauritz, Nordrhein-Westfalen\", \"OBJECTID\": 1}}]"
      ]
     },
     "execution_count": 19,
     "metadata": {},
     "output_type": "execute_result"
    }
   ],
   "source": [
    "# check for the result (this cell does not need to be changed)\n",
    "incident_f_set.features"
   ]
  },
  {
   "cell_type": "markdown",
   "metadata": {},
   "source": [
    "Draw the incident Feature Set on the map, using this value for the 'symbol' parameter `{\"type\": \"esriSMS\",\"style\": \"esriSMSCircle\",\"color\": [255,0,0,255],\"size\": 8}`"
   ]
  },
  {
   "cell_type": "code",
   "execution_count": 73,
   "metadata": {},
   "outputs": [],
   "source": [
    "# draw the incidents on the existing map widget\n",
    "i_syb = {\n",
    "    \"type\": \"esriSMS\",\n",
    "    \"style\": \"esriSMSCircle\",\n",
    "    \"color\": [255,0,0,255],\n",
    "    \"size\": 8\n",
    "}\n",
    "# now let add it to the map\n",
    "map1.draw(incident_f_set, symbol= i_syb)"
   ]
  },
  {
   "cell_type": "markdown",
   "metadata": {},
   "source": [
    "## Solve for closest hospital\n",
    "Now, you can solve the closest facility layer you created in the beginning. Syntax: https://developers.arcgis.com/python/api-reference/arcgis.network.toc.html#closestfacilitylayer\n",
    "\n",
    "Use your incidents feature set for the `incidents` parameter, your hospital feature set for the `facilities` parameter.\n",
    "\n",
    "Set the `default_target_facility_count` parameter to 1, since we only want to see the routing to the closest hospital\n",
    "\n",
    "Set the remaining attributes in a way that the impedance is set to travel time and the travel distance is added in kilometers\n"
   ]
  },
  {
   "cell_type": "code",
   "execution_count": 23,
   "metadata": {},
   "outputs": [],
   "source": [
    "\n",
    "# solve your closest facillity layer\n",
    "result = cf_layer.solve_closest_facility(\n",
    "    incidents= incident_f_set,\n",
    "    facilities=hospitals_fset,\n",
    "    default_target_facility_count= 1, # we need only thhe closest hospital\n",
    "    return_cf_routes=True,\n",
    "    directions_length_units = 'kilometers',\n",
    "    impedance_attribute_name = 'TravelTime'\n",
    "    \n",
    ")"
   ]
  },
  {
   "cell_type": "markdown",
   "metadata": {},
   "source": [
    "Let us inspect the result dictionary. You will use the content of the `routes` dictionary to create the line to be plotted on the map. you can keep the following 3 Code Cells as is, without doing anything"
   ]
  },
  {
   "cell_type": "code",
   "execution_count": 24,
   "metadata": {},
   "outputs": [
    {
     "data": {
      "text/plain": [
       "dict_keys(['requestID', 'routes', 'messages'])"
      ]
     },
     "execution_count": 24,
     "metadata": {},
     "output_type": "execute_result"
    }
   ],
   "source": [
    "result.keys()"
   ]
  },
  {
   "cell_type": "markdown",
   "metadata": {},
   "source": [
    "Let us use the `routes` dictionary to construct line features out of the routes to display on the map"
   ]
  },
  {
   "cell_type": "code",
   "execution_count": 25,
   "metadata": {},
   "outputs": [
    {
     "data": {
      "text/plain": [
       "dict_keys(['fieldAliases', 'geometryType', 'spatialReference', 'fields', 'features'])"
      ]
     },
     "execution_count": 25,
     "metadata": {},
     "output_type": "execute_result"
    }
   ],
   "source": [
    "result['routes'].keys()"
   ]
  },
  {
   "cell_type": "code",
   "execution_count": 26,
   "metadata": {},
   "outputs": [
    {
     "data": {
      "text/plain": [
       "dict_keys(['attributes', 'geometry'])"
      ]
     },
     "execution_count": 26,
     "metadata": {},
     "output_type": "execute_result"
    }
   ],
   "source": [
    "result['routes']['features'][0].keys()"
   ]
  },
  {
   "cell_type": "markdown",
   "metadata": {},
   "source": [
    "From here, you need to continue to modify the code\n",
    "\n",
    "Construct line features out of the routes that are returned. \n",
    "\n",
    "The process is the same as before. \n",
    "\n",
    "Build a `Feature` for each route (there yould only be one)\n",
    "Add this to a result list\n",
    "Build a `FeatureSet` from the list"
   ]
  },
  {
   "cell_type": "code",
   "execution_count": 28,
   "metadata": {},
   "outputs": [],
   "source": [
    "# build the list with features\n",
    "line_feat_list = []\n",
    "for line_dict in result['routes']['features']:\n",
    "    line_feat = Feature(geometry=line_dict['geometry'])\n",
    "    line_feat_list.append(line_feat)\n",
    "                       \n"
   ]
  },
  {
   "cell_type": "code",
   "execution_count": 29,
   "metadata": {},
   "outputs": [],
   "source": [
    "# create a feature set\n",
    "# lets repeat the steps as we did before\n",
    "routes_fset = FeatureSet(\n",
    "    line_feat_list, # we will give the line list with the same spatial reference\n",
    "    spatial_reference={\n",
    "        'wkid': 4326, \n",
    "        'latestWkid': 4326\n",
    "    }\n",
    ")"
   ]
  },
  {
   "cell_type": "markdown",
   "metadata": {},
   "source": [
    "Add the routes back to the map using the `draw` method of the map widget once again. Make sure to scroll back up to verify the result\n",
    "\n",
    "You can use this value for the symbol parameter `{'type': 'esriSLS', 'style': 'esriSLSSolid','color': [0,0,255,100], 'width': 6}`"
   ]
  },
  {
   "cell_type": "code",
   "execution_count": 74,
   "metadata": {},
   "outputs": [],
   "source": [
    "# let make the symbol first:\n",
    "route_syb = {\n",
    "    'type': 'esriSLS',\n",
    "    'style': 'esriSLSSolid',\n",
    "    'color': [0, 0, 255, 100],\n",
    "    'width': 6\n",
    "}\n",
    "\n",
    "# time to draw the result to the map\n",
    "map1.draw(\n",
    "    routes_fset, \n",
    "    symbol=route_syb\n",
    ")"
   ]
  },
  {
   "cell_type": "markdown",
   "metadata": {},
   "source": [
    "## Bonus Challenge \n",
    "for 2 Extra Points: Label the drawn Line with the distance value from the result object"
   ]
  },
  {
   "cell_type": "code",
   "execution_count": null,
   "metadata": {},
   "outputs": [],
   "source": [
    "# optional bonus content"
   ]
  },
  {
   "cell_type": "code",
   "execution_count": 49,
   "metadata": {},
   "outputs": [
    {
     "name": "stdout",
     "output_type": "stream",
     "text": [
      "1.12 KM\n"
     ]
    }
   ],
   "source": [
    "# lets use the attribute key to find the distance first\n",
    "dis = result['routes']['features'][0]['attributes']['Total_Kilometers']\n",
    "# converting this into a string\n",
    "distance = f\"{dis:.2f} KM\" # aslo rounding off\n",
    "print(distance)"
   ]
  },
  {
   "cell_type": "code",
   "execution_count": 51,
   "metadata": {},
   "outputs": [
    {
     "name": "stdout",
     "output_type": "stream",
     "text": [
      "[7.645736100000022, 51.955489800000066]\n"
     ]
    }
   ],
   "source": [
    "# now lets find the mid point in order to place this our distance \n",
    "route_path = result['routes']['features'][0]['geometry']['paths'][0]\n",
    "mid_point = route_path[len(route_path)//2]  \n",
    "\n",
    "print(mid_point)\n",
    "\n",
    "# now we have mid point coordinates, so we will now make a feature set \n",
    "# from it as we have been doing till now\n",
    "\n",
    "mid_point_feature = Feature(geometry={'x': mid_point[0], 'y': mid_point[1]})\n",
    "mid_point_f_set = FeatureSet([mid_point_feature])"
   ]
  },
  {
   "cell_type": "code",
   "execution_count": 76,
   "metadata": {},
   "outputs": [],
   "source": [
    "# let make the symbol for our text\n",
    "text_syb = {\n",
    "    \"type\": \"esriTS\",  \n",
    "    \"color\": [0, 0, 255, 100],\n",
    "    \"text\": distance  # we will give the text as our input\n",
    "}\n",
    "\n",
    "# time to add this text as a label\n",
    "map1.draw(\n",
    "    mid_point_f_set, \n",
    "    symbol=text_syb  \n",
    ")"
   ]
  },
  {
   "cell_type": "code",
   "execution_count": null,
   "metadata": {},
   "outputs": [],
   "source": []
  }
 ],
 "metadata": {
  "anaconda-cloud": {},
  "esriNotebookRuntime": {
   "notebookRuntimeName": "ArcGIS Notebook Python 3 Standard",
   "notebookRuntimeVersion": "5.0"
  },
  "kernelspec": {
   "display_name": "ArcGIS Pro",
   "language": "python",
   "name": "arcgispro"
  },
  "language_info": {
   "codemirror_mode": {
    "name": "ipython",
    "version": 3
   },
   "file_extension": ".py",
   "mimetype": "text/x-python",
   "name": "python",
   "nbconvert_exporter": "python",
   "pygments_lexer": "ipython3",
   "version": "3.11.8"
  },
  "toc": {
   "base_numbering": 1,
   "nav_menu": {},
   "number_sections": true,
   "sideBar": true,
   "skip_h1_title": false,
   "title_cell": "Table of Contents",
   "title_sidebar": "Contents",
   "toc_cell": true,
   "toc_position": {},
   "toc_section_display": true,
   "toc_window_display": true
  }
 },
 "nbformat": 4,
 "nbformat_minor": 2
}
